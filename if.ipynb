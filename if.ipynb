{
 "cells": [
  {
   "cell_type": "code",
   "execution_count": 5,
   "id": "122f77c9",
   "metadata": {},
   "outputs": [
    {
     "name": "stdout",
     "output_type": "stream",
     "text": [
      "nie jesteś dorosły\n",
      "cos tam tam\n"
     ]
    }
   ],
   "source": [
    "# 1. Czy masz więcej niż 18 lat? (if .. else)\n",
    "age = 15\n",
    "if age >= 18:\n",
    "    print(\"jesteś dorosły\")\n",
    "    print(\"asd\")\n",
    "else:\n",
    "    print(\"nie jesteś dorosły\")\n",
    "print(\"cos tam tam\")"
   ]
  },
  {
   "cell_type": "code",
   "execution_count": null,
   "id": "6a64f524",
   "metadata": {},
   "outputs": [
    {
     "name": "stdout",
     "output_type": "stream",
     "text": [
      "True\n",
      "jest w zakresie\n"
     ]
    }
   ],
   "source": [
    "# 2. Czy liczba jest w zakresie? (operator AND)\n",
    "number = 15\n",
    "print(number >= 0 and number <=100)\n",
    "if number >= 0 and number <=100:\n",
    "    print(\"jest w zakresie\")\n",
    "else:\n",
    "    print(\"nie jest w zakresie\")"
   ]
  },
  {
   "cell_type": "code",
   "execution_count": 17,
   "id": "08a65258",
   "metadata": {},
   "outputs": [],
   "source": [
    "# 3. Czy liczba jest w zakresie? (operator OR)\n",
    "number = 105\n",
    "if number < 0 or number > 100 and number == 101:\n",
    "    print(\"w zakresie\")"
   ]
  },
  {
   "cell_type": "code",
   "execution_count": 25,
   "id": "1566e49e",
   "metadata": {},
   "outputs": [
    {
     "name": "stdout",
     "output_type": "stream",
     "text": [
      "liczba nieparzysta\n"
     ]
    }
   ],
   "source": [
    "# 4. Czy liczba jest nieparzysta? (operator NOT)\n",
    "number = 11\n",
    "if number % 2 != 0:\n",
    "    print(\"liczba nieparzysta\")\n",
    "    \n",
    "expresion = True\n",
    "\n",
    "if not expresion:\n",
    "    print(\"tak\")"
   ]
  },
  {
   "cell_type": "markdown",
   "id": "6c2a74ee",
   "metadata": {},
   "source": [
    "Ćwiczenie 1. Konwerter czasu 24h na 12h\n",
    "\n",
    "1. Pobierz od użytkownika godzine (bez minut)\n",
    "2. Jeśli godzina jest większa niż 12 to odejmij 12 i dopisz PM\n",
    "3. W przeciwnnym wypadku dopisz AM"
   ]
  },
  {
   "cell_type": "code",
   "execution_count": 28,
   "id": "193481bd",
   "metadata": {},
   "outputs": [
    {
     "name": "stdout",
     "output_type": "stream",
     "text": [
      "podałeś złą godzine\n"
     ]
    }
   ],
   "source": [
    "# 5. Konwerter czasu z walidacją inputu (Zagnieżdzony if)\n",
    "hour = 30\n",
    "if hour >= 0 and hour <=24:\n",
    "    if hour < 12:\n",
    "        print(str(hour) + \"am\")\n",
    "    else:\n",
    "        hour -= 12\n",
    "        print(str(hour) + \"pm\")\n",
    "else:\n",
    "    print(\"podałeś złą godzine\")"
   ]
  },
  {
   "cell_type": "code",
   "execution_count": 33,
   "id": "1d3bcf62",
   "metadata": {},
   "outputs": [
    {
     "name": "stdout",
     "output_type": "stream",
     "text": [
      "jesteś dorosły\n"
     ]
    }
   ],
   "source": [
    "# 6. Czy jesteś stary (if .. elif .. else)\n",
    "age = 50\n",
    "if age <= 18:\n",
    "    print(\"jesteś niepełnoletni\")\n",
    "elif age <= 65:\n",
    "    print(\"jesteś dorosły\")\n",
    "elif age <= 80:\n",
    "    print(\"jesteś stary\")\n",
    "else:\n",
    "    print(\"jesteś emerytem\")\n"
   ]
  },
  {
   "cell_type": "markdown",
   "id": "7a4d4c8a",
   "metadata": {},
   "source": [
    "Ćwiczenie 2. Obliczanie Delty\n",
    "\n",
    "Delta = b**2 - 4ac\n",
    "x1 = (-b - pierwiatek(delta)) / 2a\n",
    "x2 = (-b + pierwiatek(delta)) / 2a\n",
    "x0 = -b / 2a\n",
    "\n",
    "1. oblicz delte\n",
    "2. jeśli delta > 0 to oblicz 2 miejsca zerowe\n",
    "3. jeśli delta = 0 to oblicz 1 miejsce zerowe\n",
    "4. jeśli delta < 0 to napisz że nie ma miejsc zerowych\n",
    "\n",
    "f(x) = x**2 - 4x - 5 (x1 = -1 i x2 = 5)\n",
    "f(x) = x**2 + 2x + 1 (x0 = -1)\n",
    "f(x) = 2x**2 + 3x + 2 (brak miejsc zerowych)"
   ]
  },
  {
   "cell_type": "code",
   "execution_count": 36,
   "id": "a609a13d",
   "metadata": {},
   "outputs": [
    {
     "name": "stdout",
     "output_type": "stream",
     "text": [
      "kdhajfkjsdanfksjnsdfsdfdfsdfsfdsdf\n"
     ]
    }
   ],
   "source": [
    "print(\"kdhajfkjsdanfksjn\" \\\n",
    "    \"sdfsdfdfsdfsfdsdf\" \\\n",
    "    )"
   ]
  }
 ],
 "metadata": {
  "kernelspec": {
   "display_name": "Python 3",
   "language": "python",
   "name": "python3"
  },
  "language_info": {
   "codemirror_mode": {
    "name": "ipython",
    "version": 3
   },
   "file_extension": ".py",
   "mimetype": "text/x-python",
   "name": "python",
   "nbconvert_exporter": "python",
   "pygments_lexer": "ipython3",
   "version": "3.11.13"
  }
 },
 "nbformat": 4,
 "nbformat_minor": 5
}
