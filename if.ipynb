{
 "cells": [
  {
   "cell_type": "code",
   "execution_count": null,
   "id": "122f77c9",
   "metadata": {},
   "outputs": [],
   "source": [
    "# 1. Czy masz więcej niż 18 lat? (if .. else)\n"
   ]
  },
  {
   "cell_type": "code",
   "execution_count": null,
   "id": "6a64f524",
   "metadata": {},
   "outputs": [],
   "source": [
    "# 2. Czy liczba jest w zakresie? (operator AND)\n"
   ]
  },
  {
   "cell_type": "code",
   "execution_count": null,
   "id": "08a65258",
   "metadata": {},
   "outputs": [],
   "source": [
    "# 3. Czy liczba jest w zakresie? (operator OR)"
   ]
  },
  {
   "cell_type": "code",
   "execution_count": null,
   "id": "1566e49e",
   "metadata": {},
   "outputs": [],
   "source": [
    "# 4. Czy liczba jest nieparzysta? (operator NOT)\n"
   ]
  },
  {
   "cell_type": "markdown",
   "id": "6c2a74ee",
   "metadata": {},
   "source": [
    "Ćwiczenie 1. Konwerter czasu 24h na 12h\n",
    "\n",
    "1. Pobierz od użytkownika godzine (bez minut)\n",
    "2. Jeśli godzina jest większa niż 12 to odejmij 12 i dopisz PM\n",
    "3. W przeciwnnym wypadku dopisz AM"
   ]
  },
  {
   "cell_type": "code",
   "execution_count": null,
   "id": "193481bd",
   "metadata": {},
   "outputs": [],
   "source": [
    "# 5. Konwerter czasu z walidacją inputu (Zagnieżdzony if)\n"
   ]
  },
  {
   "cell_type": "code",
   "execution_count": null,
   "id": "1d3bcf62",
   "metadata": {},
   "outputs": [],
   "source": [
    "# 6. Czy jesteś stary (if .. elif .. else)\n",
    "\n"
   ]
  },
  {
   "cell_type": "markdown",
   "id": "7a4d4c8a",
   "metadata": {},
   "source": [
    "Ćwiczenie 2. Obliczanie Delty\n",
    "\n",
    "Delta = b**2 - 4ac\n",
    "x1 = (-b - pierwiatek(delta)) / 2a\n",
    "x2 = (-b + pierwiatek(delta)) / 2a\n",
    "x0 = -b / 2a\n",
    "\n",
    "1. oblicz delte\n",
    "2. jeśli delta > 0 to oblicz 2 miejsca zerowe\n",
    "3. jeśli delta = 0 to oblicz 1 miejsce zerowe\n",
    "4. jeśli delta < 0 to napisz że nie ma miejsc zerowych\n",
    "\n",
    "f(x) = x**2 - 4x - 5 (x1 = -1 i x2 = 5)\n",
    "f(x) = x**2 + 2x + 1 (x0 = -1)\n",
    "f(x) = 2x**2 + 3x + 2 (brak miejsc zerowych)"
   ]
  }
 ],
 "metadata": {
  "language_info": {
   "name": "python"
  }
 },
 "nbformat": 4,
 "nbformat_minor": 5
}
