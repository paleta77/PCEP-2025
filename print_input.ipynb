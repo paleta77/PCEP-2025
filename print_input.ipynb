{
 "cells": [
  {
   "cell_type": "code",
   "execution_count": null,
   "id": "404bf6d8",
   "metadata": {},
   "outputs": [
    {
     "name": "stdout",
     "output_type": "stream",
     "text": [
      "Hello world\n"
     ]
    }
   ],
   "source": [
    "# 1. powitanie świata\n"
   ]
  },
  {
   "cell_type": "code",
   "execution_count": null,
   "id": "c4a0ad14",
   "metadata": {},
   "outputs": [],
   "source": [
    "# 2. Przedstawienie się (zmienne)\n"
   ]
  },
  {
   "cell_type": "code",
   "execution_count": 10,
   "id": "34468a09",
   "metadata": {},
   "outputs": [
    {
     "name": "stdout",
     "output_type": "stream",
     "text": [
      "\n",
      "Here is a list of the Python keywords.  Enter any keyword to get more help.\n",
      "\n",
      "False               class               from                or\n",
      "None                continue            global              pass\n",
      "True                def                 if                  raise\n",
      "and                 del                 import              return\n",
      "as                  elif                in                  try\n",
      "assert              else                is                  while\n",
      "async               except              lambda              with\n",
      "await               finally             nonlocal            yield\n",
      "break               for                 not                 \n",
      "\n"
     ]
    }
   ],
   "source": [
    "help(\"keywords\")"
   ]
  },
  {
   "cell_type": "code",
   "execution_count": null,
   "id": "11b4d349",
   "metadata": {},
   "outputs": [
    {
     "name": "stdout",
     "output_type": "stream",
     "text": [
      "Hello world!"
     ]
    }
   ],
   "source": [
    "# 3. Łącznie stringów (sep i end) (domyślnie sep=\" \", end=\"\\n\")\n",
    "\n",
    "print(\"Hello\", \"world\", end=\"!\")"
   ]
  },
  {
   "cell_type": "code",
   "execution_count": null,
   "id": "e06cce34",
   "metadata": {},
   "outputs": [],
   "source": [
    "# 4. Ile masz lat? (input)\n"
   ]
  },
  {
   "cell_type": "markdown",
   "id": "85d1fe2f",
   "metadata": {},
   "source": [
    "Ćwiczenie 1: pobierz od użytkownika jak ma na imie i wypisz na ekran"
   ]
  },
  {
   "cell_type": "code",
   "execution_count": null,
   "id": "cc524935",
   "metadata": {},
   "outputs": [],
   "source": [
    "# 5. Sprawdzanie typu danych i ich typy (int, float, str)\n"
   ]
  },
  {
   "cell_type": "code",
   "execution_count": null,
   "id": "2e424392",
   "metadata": {},
   "outputs": [],
   "source": [
    "# 6. Ile masz lat bazując na roku urodzenia (konwersja typu)\n"
   ]
  },
  {
   "cell_type": "code",
   "execution_count": 11,
   "id": "a9cae7ed",
   "metadata": {},
   "outputs": [
    {
     "name": "stdout",
     "output_type": "stream",
     "text": [
      "4.0\n"
     ]
    }
   ],
   "source": [
    "# 7. Operacje na zmiennych\n",
    "\n",
    "# operatory arytmetyczne: +, -, *, /, %, //, **\n",
    "# operatory tekstowe: +, *\n",
    "# operatory przypisania: =, +=, -=, *=, /=, %=, //=, **=\n",
    "# operatory porównania: ==, !=, >, <, >=, <=\n",
    "# pierwiatkowanie:\n",
    "import math\n",
    "print(math.sqrt(16))\n"
   ]
  },
  {
   "cell_type": "markdown",
   "id": "08372707",
   "metadata": {},
   "source": [
    "Ćwiczenie 2: \n",
    "Stwórz algorytm który:\n",
    "1. pobierze od użytkownika dwie liczby\n",
    "2. wykona dowolne działanie arytmetyczne\n",
    "3. wypisze wynik na ekran pełnym zdaniem"
   ]
  }
 ],
 "metadata": {
  "kernelspec": {
   "display_name": "Python 3",
   "language": "python",
   "name": "python3"
  },
  "language_info": {
   "codemirror_mode": {
    "name": "ipython",
    "version": 3
   },
   "file_extension": ".py",
   "mimetype": "text/x-python",
   "name": "python",
   "nbconvert_exporter": "python",
   "pygments_lexer": "ipython3",
   "version": "3.12.3"
  }
 },
 "nbformat": 4,
 "nbformat_minor": 5
}
