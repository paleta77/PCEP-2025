{
 "cells": [
  {
   "cell_type": "code",
   "execution_count": null,
   "id": "404bf6d8",
   "metadata": {},
   "outputs": [
    {
     "name": "stdout",
     "output_type": "stream",
     "text": [
      "Hello world\n"
     ]
    }
   ],
   "source": [
    "# 1. powitanie świata\n",
    "print(\"'hello world'\")"
   ]
  },
  {
   "cell_type": "code",
   "execution_count": 1,
   "id": "c4a0ad14",
   "metadata": {},
   "outputs": [
    {
     "name": "stdout",
     "output_type": "stream",
     "text": [
      "Paweł\n"
     ]
    }
   ],
   "source": [
    "# 2. Przedstawienie się (zmienne)\n",
    "imie = \"Paweł\"\n",
    "print(imie)"
   ]
  },
  {
   "cell_type": "code",
   "execution_count": 10,
   "id": "34468a09",
   "metadata": {},
   "outputs": [
    {
     "name": "stdout",
     "output_type": "stream",
     "text": [
      "\n",
      "Here is a list of the Python keywords.  Enter any keyword to get more help.\n",
      "\n",
      "False               class               from                or\n",
      "None                continue            global              pass\n",
      "True                def                 if                  raise\n",
      "and                 del                 import              return\n",
      "as                  elif                in                  try\n",
      "assert              else                is                  while\n",
      "async               except              lambda              with\n",
      "await               finally             nonlocal            yield\n",
      "break               for                 not                 \n",
      "\n"
     ]
    }
   ],
   "source": [
    "help(\"keywords\")"
   ]
  },
  {
   "cell_type": "code",
   "execution_count": 6,
   "id": "11b4d349",
   "metadata": {},
   "outputs": [
    {
     "name": "stdout",
     "output_type": "stream",
     "text": [
      "Hello...world...asd!Hello world\n"
     ]
    }
   ],
   "source": [
    "# 3. Łącznie stringów (sep i end) (domyślnie sep=\" \", end=\"\\n\")\n",
    "\n",
    "print(\"Hello\", \"world\", \"asd\", sep=\"...\", end=\"!\")\n",
    "print(\"Hello\", \"world\")"
   ]
  },
  {
   "cell_type": "code",
   "execution_count": null,
   "id": "e06cce34",
   "metadata": {},
   "outputs": [
    {
     "name": "stdout",
     "output_type": "stream",
     "text": [
      "Twój wiek to:29\n",
      "Twój wiek to: 29\n"
     ]
    }
   ],
   "source": [
    "# 4. Ile masz lat? (input)\n",
    "wiek = input(\"Ile masz lat\")\n",
    "print(\"Twój wiek to:\" + wiek)\n",
    "print(f\"Twój wiek to: {wiek} i asdsads {wiek}\")"
   ]
  },
  {
   "cell_type": "markdown",
   "id": "85d1fe2f",
   "metadata": {},
   "source": [
    "Ćwiczenie 1: pobierz od użytkownika jak ma na imie i ile ma lat i wypisz na ekran"
   ]
  },
  {
   "cell_type": "code",
   "execution_count": 13,
   "id": "cc524935",
   "metadata": {},
   "outputs": [
    {
     "name": "stdout",
     "output_type": "stream",
     "text": [
      "<class 'str'>\n",
      "<class 'int'>\n",
      "<class 'float'>\n",
      "<class 'float'>\n"
     ]
    }
   ],
   "source": [
    "# 5. Sprawdzanie typu danych i ich typy (int, float, str)\n",
    "print(type(\"napis\"))\n",
    "print(type(10))\n",
    "print(type(10.0))\n",
    "print(type(15.3))"
   ]
  },
  {
   "cell_type": "code",
   "execution_count": 17,
   "id": "2e424392",
   "metadata": {},
   "outputs": [
    {
     "name": "stdout",
     "output_type": "stream",
     "text": [
      "<class 'str'>\n",
      "29\n"
     ]
    }
   ],
   "source": [
    "# 6. Ile masz lat bazując na roku urodzenia (konwersja typu)\n",
    "rok_urodzenia = input(\"w którym roku się urodziłeś: \")\n",
    "print(type(rok_urodzenia))\n",
    "print(2025-int(rok_urodzenia))"
   ]
  },
  {
   "cell_type": "code",
   "execution_count": 42,
   "id": "a9cae7ed",
   "metadata": {},
   "outputs": [
    {
     "name": "stdout",
     "output_type": "stream",
     "text": [
      "4.0\n"
     ]
    }
   ],
   "source": [
    "# 7. Operacje na zmiennych\n",
    "\n",
    "# operatory arytmetyczne: +, -, *, /, %, //, **\n",
    "# operatory tekstowe: +, *\n",
    "# operatory przypisania: =, +=, -=, *=, /=, %=, //=, **=\n",
    "# operatory porównania: ==, !=, >, <, >=, <=\n",
    "# pierwiatkowanie:\n",
    "# import math\n",
    "# print(math.sqrt(16))\n",
    "from math import sqrt as sq\n",
    "\n",
    "print(sq(16))"
   ]
  },
  {
   "cell_type": "code",
   "execution_count": 22,
   "id": "98c17285",
   "metadata": {},
   "outputs": [
    {
     "name": "stdout",
     "output_type": "stream",
     "text": [
      "7\n",
      "1\n",
      "38\n",
      "2.0\n",
      "2\n",
      "1.6666666666666667\n",
      "1\n",
      "256\n"
     ]
    }
   ],
   "source": [
    "# operatory arytmetyczne: +, -, *, /, %, //, **\n",
    "print(2+5)\n",
    "print(2-1)\n",
    "print(2*19)\n",
    "print(4/2)\n",
    "print(5%3)\n",
    "print(5/3)\n",
    "print(5//3)\n",
    "print(2**8)"
   ]
  },
  {
   "cell_type": "code",
   "execution_count": 24,
   "id": "fd409ad8",
   "metadata": {},
   "outputs": [
    {
     "name": "stdout",
     "output_type": "stream",
     "text": [
      "tekstcos\n",
      "coscoscos\n"
     ]
    }
   ],
   "source": [
    "# operatory tekstowe: +, *\n",
    "print(\"tekst\" + \"cos\")\n",
    "print(\"cos\" * 3)"
   ]
  },
  {
   "cell_type": "code",
   "execution_count": 34,
   "id": "be47d655",
   "metadata": {},
   "outputs": [
    {
     "name": "stdout",
     "output_type": "stream",
     "text": [
      "1\n",
      "2\n",
      "1\n",
      "3\n",
      "1.0\n",
      "4\n",
      "1\n",
      "1000\n"
     ]
    }
   ],
   "source": [
    "# operatory przypisania: =, +=, -=, *=, /=, %=, //=, **=\n",
    "liczba = 10\n",
    "i=0\n",
    "i=i+1\n",
    "print(i)\n",
    "i+=1\n",
    "print(i)\n",
    "i-=1\n",
    "print(i)\n",
    "i*=3\n",
    "print(i)\n",
    "i/=3\n",
    "print(i)\n",
    "i=10\n",
    "i%=6\n",
    "print(i)\n",
    "i//=3\n",
    "print(i)\n",
    "i=10\n",
    "i**=3\n",
    "print(i)"
   ]
  },
  {
   "cell_type": "code",
   "execution_count": 40,
   "id": "70d379a1",
   "metadata": {},
   "outputs": [
    {
     "name": "stdout",
     "output_type": "stream",
     "text": [
      "True\n",
      "True\n",
      "True\n",
      "False\n",
      "True\n",
      "False\n"
     ]
    }
   ],
   "source": [
    "# operatory porównania: ==, !=, >, <, >=, <=\n",
    "print(True == True)\n",
    "print(\"cos\"!=\"nic\")\n",
    "print(5>0)\n",
    "print(5<0)\n",
    "print(5>=5)\n",
    "print(5<=4)"
   ]
  },
  {
   "cell_type": "markdown",
   "id": "08372707",
   "metadata": {},
   "source": [
    "Ćwiczenie 2: \n",
    "Stwórz algorytm który:\n",
    "1. pobierze od użytkownika dwie liczby\n",
    "2. wykona dowolne działanie arytmetyczne\n",
    "3. wypisze wynik na ekran pełnym zdaniem"
   ]
  },
  {
   "cell_type": "code",
   "execution_count": 45,
   "id": "90eadb7d",
   "metadata": {},
   "outputs": [
    {
     "name": "stdout",
     "output_type": "stream",
     "text": [
      "nowa \n",
      "\"linia\"\n"
     ]
    }
   ],
   "source": [
    "print(\"nowa \\n\\\"linia\\\"\")"
   ]
  }
 ],
 "metadata": {
  "kernelspec": {
   "display_name": "Python 3",
   "language": "python",
   "name": "python3"
  },
  "language_info": {
   "codemirror_mode": {
    "name": "ipython",
    "version": 3
   },
   "file_extension": ".py",
   "mimetype": "text/x-python",
   "name": "python",
   "nbconvert_exporter": "python",
   "pygments_lexer": "ipython3",
   "version": "3.11.13"
  }
 },
 "nbformat": 4,
 "nbformat_minor": 5
}
